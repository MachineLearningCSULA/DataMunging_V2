{
 "cells": [
  {
   "cell_type": "markdown",
   "metadata": {},
   "source": [
    "# Predicting the Success of A Film"
   ]
  },
  {
   "cell_type": "code",
   "execution_count": 64,
   "metadata": {
    "collapsed": false
   },
   "outputs": [],
   "source": [
    "import re\n",
    "import pandas as pd\n",
    "import matplotlib.pyplot as plt\n",
    "import numpy as np\n",
    "pd.set_option('display.max_columns', None)\n",
    "df = pd.read_csv('movies_with_sentiment.csv', thousands = \",\")"
   ]
  },
  {
   "cell_type": "markdown",
   "metadata": {
    "collapsed": true
   },
   "source": [
    "## Convert to DF and Convert Strings to Numerical Values"
   ]
  },
  {
   "cell_type": "code",
   "execution_count": 65,
   "metadata": {
    "collapsed": false
   },
   "outputs": [],
   "source": [
    "array = df['released_month']\n",
    "cats= pd.Categorical(array)\n",
    "df['released_month1'] = cats.codes\n",
    "\n",
    "array = df['genre']\n",
    "cats= pd.Categorical(array)\n",
    "df['genre1'] = cats.codes\n",
    "\n",
    "array = df['rated']\n",
    "cats= pd.Categorical(array)\n",
    "df['rated1'] = cats.codes\n",
    "\n",
    "array = df['director']\n",
    "cats= pd.Categorical(array)\n",
    "df['director1'] = cats.codes\n",
    "\n",
    "array = df['writer']\n",
    "cats= pd.Categorical(array)\n",
    "df['writer1'] = cats.codes\n",
    "\n",
    "array = df['main_actor']\n",
    "cats= pd.Categorical(array)\n",
    "df['main_actor1'] = cats.codes\n",
    "\n",
    "array = df['main_actor']\n",
    "cats= pd.Categorical(array)\n",
    "df['main_actor1'] = cats.codes"
   ]
  },
  {
   "cell_type": "markdown",
   "metadata": {},
   "source": [
    "## Replace Null Values with the Median"
   ]
  },
  {
   "cell_type": "code",
   "execution_count": 66,
   "metadata": {
    "collapsed": false
   },
   "outputs": [],
   "source": [
    "median = df[df['metascore'].notnull()]['metascore'].median()\n",
    "df['metascore1'] = df['metascore']\n",
    "df.loc[df['metascore'].isnull(), 'metascore1'] = median\n",
    "\n",
    "median = df[df['rating'].notnull()]['rating'].median()\n",
    "df['rating1'] = df['rating']\n",
    "df.loc[df['rating'].isnull(), 'rating1'] = median\n",
    "\n",
    "median = df[df['votes'].notnull()]['votes'].median()\n",
    "df['votes1'] = df['votes']\n",
    "df.loc[df['votes'].isnull(), 'votes1'] = median\n",
    "\n",
    "df['budget1'] = df['budget']"
   ]
  },
  {
   "cell_type": "markdown",
   "metadata": {},
   "source": [
    "## Caculate Profit Ratio to Label Success of Film"
   ]
  },
  {
   "cell_type": "code",
   "execution_count": 67,
   "metadata": {
    "collapsed": false
   },
   "outputs": [],
   "source": [
    "df['profit_ratio'] = df['gross']/df['budget']\n",
    "df['profit_ratio'] = df['profit_ratio']"
   ]
  },
  {
   "cell_type": "code",
   "execution_count": 68,
   "metadata": {
    "collapsed": false
   },
   "outputs": [
    {
     "data": {
      "text/html": [
       "<div>\n",
       "<table border=\"1\" class=\"dataframe\">\n",
       "  <thead>\n",
       "    <tr style=\"text-align: right;\">\n",
       "      <th></th>\n",
       "      <th>sentiment</th>\n",
       "      <th>released_month1</th>\n",
       "      <th>genre1</th>\n",
       "      <th>rated1</th>\n",
       "      <th>director1</th>\n",
       "      <th>writer1</th>\n",
       "      <th>main_actor1</th>\n",
       "      <th>metascore1</th>\n",
       "      <th>rating1</th>\n",
       "      <th>votes1</th>\n",
       "      <th>budget1</th>\n",
       "      <th>profit_ratio</th>\n",
       "      <th>successful</th>\n",
       "    </tr>\n",
       "  </thead>\n",
       "  <tbody>\n",
       "    <tr>\n",
       "      <th>0</th>\n",
       "      <td>11</td>\n",
       "      <td>3</td>\n",
       "      <td>7</td>\n",
       "      <td>5</td>\n",
       "      <td>262</td>\n",
       "      <td>176</td>\n",
       "      <td>63</td>\n",
       "      <td>46</td>\n",
       "      <td>41</td>\n",
       "      <td>209678</td>\n",
       "      <td>40000000</td>\n",
       "      <td>4.154181</td>\n",
       "      <td>1</td>\n",
       "    </tr>\n",
       "    <tr>\n",
       "      <th>1</th>\n",
       "      <td>33</td>\n",
       "      <td>9</td>\n",
       "      <td>1</td>\n",
       "      <td>4</td>\n",
       "      <td>53</td>\n",
       "      <td>160</td>\n",
       "      <td>81</td>\n",
       "      <td>74</td>\n",
       "      <td>86</td>\n",
       "      <td>845024</td>\n",
       "      <td>165000000</td>\n",
       "      <td>1.139515</td>\n",
       "      <td>0</td>\n",
       "    </tr>\n",
       "    <tr>\n",
       "      <th>2</th>\n",
       "      <td>8</td>\n",
       "      <td>4</td>\n",
       "      <td>0</td>\n",
       "      <td>5</td>\n",
       "      <td>193</td>\n",
       "      <td>222</td>\n",
       "      <td>54</td>\n",
       "      <td>51</td>\n",
       "      <td>54</td>\n",
       "      <td>35637</td>\n",
       "      <td>70000000</td>\n",
       "      <td>0.101388</td>\n",
       "      <td>0</td>\n",
       "    </tr>\n",
       "    <tr>\n",
       "      <th>3</th>\n",
       "      <td>0</td>\n",
       "      <td>9</td>\n",
       "      <td>3</td>\n",
       "      <td>5</td>\n",
       "      <td>149</td>\n",
       "      <td>155</td>\n",
       "      <td>89</td>\n",
       "      <td>67</td>\n",
       "      <td>66</td>\n",
       "      <td>7698</td>\n",
       "      <td>5000000</td>\n",
       "      <td>0.625788</td>\n",
       "      <td>0</td>\n",
       "    </tr>\n",
       "    <tr>\n",
       "      <th>4</th>\n",
       "      <td>0</td>\n",
       "      <td>1</td>\n",
       "      <td>5</td>\n",
       "      <td>5</td>\n",
       "      <td>145</td>\n",
       "      <td>243</td>\n",
       "      <td>59</td>\n",
       "      <td>51</td>\n",
       "      <td>61</td>\n",
       "      <td>6968</td>\n",
       "      <td>1000000</td>\n",
       "      <td>0.023400</td>\n",
       "      <td>0</td>\n",
       "    </tr>\n",
       "  </tbody>\n",
       "</table>\n",
       "</div>"
      ],
      "text/plain": [
       "   sentiment  released_month1  genre1  rated1  director1  writer1  \\\n",
       "0         11                3       7       5        262      176   \n",
       "1         33                9       1       4         53      160   \n",
       "2          8                4       0       5        193      222   \n",
       "3          0                9       3       5        149      155   \n",
       "4          0                1       5       5        145      243   \n",
       "\n",
       "   main_actor1  metascore1  rating1  votes1    budget1  profit_ratio  \\\n",
       "0           63          46       41  209678   40000000      4.154181   \n",
       "1           81          74       86  845024  165000000      1.139515   \n",
       "2           54          51       54   35637   70000000      0.101388   \n",
       "3           89          67       66    7698    5000000      0.625788   \n",
       "4           59          51       61    6968    1000000      0.023400   \n",
       "\n",
       "   successful  \n",
       "0           1  \n",
       "1           0  \n",
       "2           0  \n",
       "3           0  \n",
       "4           0  "
      ]
     },
     "execution_count": 68,
     "metadata": {},
     "output_type": "execute_result"
    }
   ],
   "source": [
    "# define successful movie as earning net profit = three times its budget\n",
    "def isSuccess(x):\n",
    "    if x >= 3:\n",
    "        return 1\n",
    "    else:\n",
    "        return 0\n",
    "\n",
    "df['successful'] = df['profit_ratio'].apply(isSuccess)\n",
    "df2 = df[df.columns[16:]]\n",
    "df2.head()"
   ]
  },
  {
   "cell_type": "markdown",
   "metadata": {},
   "source": [
    "## Sorting out data for 2014-2016 from Current Films"
   ]
  },
  {
   "cell_type": "code",
   "execution_count": 69,
   "metadata": {
    "collapsed": false
   },
   "outputs": [],
   "source": [
    "# data\n",
    "data = df2.values[:327]\n",
    "\n",
    "# 7 movies that opened March 17, 2016 with no gross, rating, metascore, and votes\n",
    "opening_movies = df2.values[327:, 0:11]"
   ]
  },
  {
   "cell_type": "markdown",
   "metadata": {},
   "source": [
    "## Create Our Test Sets"
   ]
  },
  {
   "cell_type": "code",
   "execution_count": 70,
   "metadata": {
    "collapsed": false
   },
   "outputs": [],
   "source": [
    "from sklearn.cross_validation import train_test_split\n",
    "    \n",
    "X_train, X_test, y_train, y_test = train_test_split(data[:, 0:11], data[:, 12], test_size=0.33, random_state=2)"
   ]
  },
  {
   "cell_type": "markdown",
   "metadata": {},
   "source": [
    "## Apply Different Classification Anaylsis Algorithms to Test Sets"
   ]
  },
  {
   "cell_type": "markdown",
   "metadata": {},
   "source": [
    "### Naive Bayes"
   ]
  },
  {
   "cell_type": "code",
   "execution_count": 71,
   "metadata": {
    "collapsed": false
   },
   "outputs": [
    {
     "name": "stdout",
     "output_type": "stream",
     "text": [
      "             precision    recall  f1-score   support\n",
      "\n",
      "        0.0       0.80      1.00      0.89        86\n",
      "        1.0       0.00      0.00      0.00        22\n",
      "\n",
      "avg / total       0.63      0.80      0.71       108\n",
      "\n"
     ]
    }
   ],
   "source": [
    "from sklearn.naive_bayes import GaussianNB\n",
    "from sklearn.metrics import classification_report\n",
    "clf_NB = GaussianNB()\n",
    "nb_dec = clf_NB.fit(X_train, y_train)\n",
    "nb_score = clf_NB.predict_proba(X_test)[:,1]\n",
    "#nb_score = nb_dec.decision_function(X_test)\n",
    "output_NB = clf_NB.predict(X_test)\n",
    "from sklearn.metrics import accuracy_score\n",
    "accuracy_NB = accuracy_score(y_test, output_NB)\n",
    "accuracy_NB\n",
    "\n",
    "print classification_report(y_test,output_NB)"
   ]
  },
  {
   "cell_type": "markdown",
   "metadata": {},
   "source": [
    "### SVM"
   ]
  },
  {
   "cell_type": "code",
   "execution_count": 72,
   "metadata": {
    "collapsed": false
   },
   "outputs": [
    {
     "name": "stdout",
     "output_type": "stream",
     "text": [
      "             precision    recall  f1-score   support\n",
      "\n",
      "        0.0       0.80      1.00      0.89        86\n",
      "        1.0       0.00      0.00      0.00        22\n",
      "\n",
      "avg / total       0.63      0.80      0.71       108\n",
      "\n"
     ]
    }
   ],
   "source": [
    "from sklearn.svm import SVC\n",
    "clf_svm = SVC()\n",
    "svm_dec = clf_svm.fit(X_train, y_train)\n",
    "svm_score = svm_dec.decision_function(X_test)\n",
    "output_svm = clf_svm.predict(X_test)\n",
    "accuracy_svm = accuracy_score(y_test, output_svm)\n",
    "accuracy_svm\n",
    "\n",
    "print classification_report(y_test,output_svm)"
   ]
  },
  {
   "cell_type": "markdown",
   "metadata": {},
   "source": [
    "### Logistic Regression"
   ]
  },
  {
   "cell_type": "code",
   "execution_count": 73,
   "metadata": {
    "collapsed": false
   },
   "outputs": [
    {
     "name": "stdout",
     "output_type": "stream",
     "text": [
      "             precision    recall  f1-score   support\n",
      "\n",
      "        0.0       0.89      0.97      0.93        86\n",
      "        1.0       0.80      0.55      0.65        22\n",
      "\n",
      "avg / total       0.87      0.88      0.87       108\n",
      "\n"
     ]
    }
   ],
   "source": [
    "from sklearn.linear_model import LogisticRegression\n",
    "\n",
    "clf_lr = LogisticRegression()\n",
    "lr_score = clf_lr.fit(X_train, y_train)\n",
    "lr_score = lr_score.decision_function(X_test)\n",
    "output_lr = clf_lr.predict(X_test)\n",
    "accuracy_lr = accuracy_score(y_test, output_lr)\n",
    "accuracy_lr\n",
    "\n",
    "print classification_report(y_test,output_lr)"
   ]
  },
  {
   "cell_type": "markdown",
   "metadata": {},
   "source": [
    "### Random Forest"
   ]
  },
  {
   "cell_type": "code",
   "execution_count": 74,
   "metadata": {
    "collapsed": false
   },
   "outputs": [
    {
     "name": "stdout",
     "output_type": "stream",
     "text": [
      "             precision    recall  f1-score   support\n",
      "\n",
      "        0.0       0.79      0.99      0.88        86\n",
      "        1.0       0.00      0.00      0.00        22\n",
      "\n",
      "avg / total       0.63      0.79      0.70       108\n",
      "\n"
     ]
    }
   ],
   "source": [
    "from sklearn.ensemble import RandomForestClassifier\n",
    "clf_forest = RandomForestClassifier(n_estimators = 100, max_features = 5)\n",
    "rf_dec = clf_forest.fit(X_train, y_train)\n",
    "rf_score = clf_forest.predict_proba(X_test)[:,1]\n",
    "output_forest = clf_forest.predict(X_test)\n",
    "accuracy_forest = accuracy_score(y_test, output_forest)\n",
    "accuracy_forest\n",
    "\n",
    "print classification_report(y_test,output_forest)"
   ]
  },
  {
   "cell_type": "markdown",
   "metadata": {
    "collapsed": true
   },
   "source": [
    "### Opening Movie Gross Profit Predictions"
   ]
  },
  {
   "cell_type": "code",
   "execution_count": 75,
   "metadata": {
    "collapsed": false,
    "scrolled": true
   },
   "outputs": [
    {
     "data": {
      "text/plain": [
       "array([ 0.,  0.,  0.,  1.,  1.,  1.,  0.])"
      ]
     },
     "execution_count": 75,
     "metadata": {},
     "output_type": "execute_result"
    }
   ],
   "source": [
    "clf_lr.predict(opening_movies)"
   ]
  },
  {
   "cell_type": "markdown",
   "metadata": {},
   "source": [
    "<table>\n",
    "    <tr>\n",
    "        <th>Movie</th>\n",
    "        <th>Budget</th>\n",
    "        <th>Sentiment</th>\n",
    "        <th>Success</th>\n",
    "    </tr>\n",
    "    <tr>\n",
    "        <td>The Divergent Series: Allegiant</td>\n",
    "        <td>115M</td>\n",
    "        <td>40</td>\n",
    "        <td>0</td>\n",
    "    </tr>\n",
    "    <tr>\n",
    "        <td>Miracles From Heaven</td>\n",
    "        <td>13M</td>\n",
    "        <td>41</td>\n",
    "        <td>0</td>\n",
    "    </tr>\n",
    "    <tr>\n",
    "        <td>Midnight Special</td>\n",
    "        <td>18M</td>\n",
    "        <td>29</td>\n",
    "        <td>0</td>\n",
    "    </tr>\n",
    "    <tr>\n",
    "        <td>The Bronze</td>\n",
    "        <td>3.5M</td>\n",
    "        <td>-9</td>\n",
    "        <td>1</td>\n",
    "    </tr>  \n",
    "    <tr>\n",
    "        <td>The Program</td>\n",
    "        <td>1.7M</td>\n",
    "        <td>9</td>\n",
    "        <td>1</td>\n",
    "    </tr>\n",
    "     <tr>\n",
    "        <td>My Golden Days</td>\n",
    "        <td>1.7M</td>\n",
    "        <td>26</td>\n",
    "        <td>1</td>\n",
    "    </tr>\n",
    "     <tr>\n",
    "        <td>Batman v Superman: Dawn of Justice</td>\n",
    "        <td>250M</td>\n",
    "        <td>23</td>\n",
    "        <td>0</td>\n",
    "    </tr>\n",
    "</table>\n"
   ]
  }
 ],
 "metadata": {
  "kernelspec": {
   "display_name": "Python 2",
   "language": "python",
   "name": "python2"
  },
  "language_info": {
   "codemirror_mode": {
    "name": "ipython",
    "version": 2
   },
   "file_extension": ".py",
   "mimetype": "text/x-python",
   "name": "python",
   "nbconvert_exporter": "python",
   "pygments_lexer": "ipython2",
   "version": "2.7.11"
  }
 },
 "nbformat": 4,
 "nbformat_minor": 0
}
